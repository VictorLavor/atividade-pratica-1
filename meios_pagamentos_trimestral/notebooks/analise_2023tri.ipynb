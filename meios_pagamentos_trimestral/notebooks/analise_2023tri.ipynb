{
 "cells": [
  {
   "cell_type": "markdown",
   "id": "6a04eea5",
   "metadata": {},
   "source": [
    "Importar Bibliotecas"
   ]
  },
  {
   "cell_type": "code",
   "execution_count": 15,
   "id": "77c94d51",
   "metadata": {},
   "outputs": [],
   "source": [
    "import pandas as pd\n",
    "import requests\n",
    "import json\n",
    "import re"
   ]
  },
  {
   "cell_type": "markdown",
   "id": "6cc1eb0b",
   "metadata": {},
   "source": [
    "Visualizando os dados do Json"
   ]
  },
  {
   "cell_type": "code",
   "execution_count": 17,
   "id": "277be755",
   "metadata": {},
   "outputs": [
    {
     "name": "stdout",
     "output_type": "stream",
     "text": [
      "Empty DataFrame\n",
      "Columns: [@odata.context, value]\n",
      "Index: []\n"
     ]
    }
   ],
   "source": [
    "import pandas as pd\n",
    "\n",
    "caminho = r\"C:\\Users\\victo\\OneDrive\\Documentos\\Faculdade Senac\\4 Periodo\\Big Data\\API\\meios_pagamentos_trimestral\\data\\meios_pagamentos_trimestrais.json\"\n",
    "df = pd.read_json(caminho)\n",
    "print(df.head())"
   ]
  }
 ],
 "metadata": {
  "kernelspec": {
   "display_name": ".venv (3.12.10)",
   "language": "python",
   "name": "python3"
  },
  "language_info": {
   "codemirror_mode": {
    "name": "ipython",
    "version": 3
   },
   "file_extension": ".py",
   "mimetype": "text/x-python",
   "name": "python",
   "nbconvert_exporter": "python",
   "pygments_lexer": "ipython3",
   "version": "3.12.10"
  }
 },
 "nbformat": 4,
 "nbformat_minor": 5
}
